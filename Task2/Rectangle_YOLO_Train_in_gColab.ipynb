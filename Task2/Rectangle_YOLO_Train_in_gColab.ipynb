{
 "cells": [
  {
   "cell_type": "code",
   "execution_count": null,
   "metadata": {
    "id": "xAJI2on_MFEN"
   },
   "outputs": [],
   "source": [
    "# Check if NVIDIA GPU is enabled\n",
    "!nvidia-smi"
   ]
  },
  {
   "cell_type": "code",
   "execution_count": null,
   "metadata": {
    "id": "_TtdXpdZM1vE"
   },
   "outputs": [],
   "source": [
    "from google.colab import drive\n",
    "drive.mount('/content/gdrive')\n",
    "!ln -s /content/gdrive/My\\ Drive/ /mydrive\n",
    "!ls /mydrive"
   ]
  },
  {
   "cell_type": "code",
   "execution_count": null,
   "metadata": {
    "id": "iCAVxGRgM8Zq"
   },
   "outputs": [],
   "source": [
    "!git clone https://github.com/AlexeyAB/darknet"
   ]
  },
  {
   "cell_type": "code",
   "execution_count": null,
   "metadata": {
    "id": "kyGFLGLkM_Oy"
   },
   "outputs": [],
   "source": [
    "# change makefile to have GPU and OPENCV enabled\n",
    "%cd darknet\n",
    "!sed -i 's/OPENCV=0/OPENCV=1/' Makefile\n",
    "!sed -i 's/GPU=0/GPU=1/' Makefile\n",
    "!sed -i 's/CUDNN=0/CUDNN=1/' Makefile\n",
    "!sed -i 's/CUDNN_HALF=0/CUDNN_HALF=1/' Makefile\n",
    "#!sed -i 's/OPENMP=0/OPENMP=1/' Makefile\n",
    "#!sed -i 's/AVX=0/AVX=1/' Makefile\n",
    "!make"
   ]
  },
  {
   "cell_type": "code",
   "execution_count": null,
   "metadata": {
    "id": "fZD3GgvLNtLB"
   },
   "outputs": [],
   "source": [
    "# Create folder on google drive so that we can save there the weights\n",
    "!mkdir \"/mydrive/ForGOSNIIAS\""
   ]
  },
  {
   "cell_type": "code",
   "execution_count": null,
   "metadata": {
    "id": "jI6GNTecN3hz"
   },
   "outputs": [],
   "source": [
    "# Copy my files from Google drive\n",
    "!cp '/mydrive/ForGOSNIIAS/yolov3-tiny.cfg' cfg/yolo-obj.cfg\n",
    "!cp '/mydrive/ForGOSNIIAS/obj.data' data/obj.data\n",
    "!cp '/mydrive/ForGOSNIIAS/obj.names' data/obj.names\n",
    "!cp '/mydrive/ForGOSNIIAS/train.txt' data/train.txt\n",
    "!cp '/mydrive/ForGOSNIIAS/val.txt' data/val.txt"
   ]
  },
  {
   "cell_type": "code",
   "execution_count": null,
   "metadata": {
    "id": "QGnu0Dc0RFDm"
   },
   "outputs": [],
   "source": [
    "!cp '/mydrive/ForGOSNIIAS/darknet53.conv.74' darknet53.conv.74"
   ]
  },
  {
   "cell_type": "code",
   "execution_count": null,
   "metadata": {
    "id": "0FXp1VEKSe71"
   },
   "outputs": [],
   "source": [
    "!cp '/mydrive/ForGOSNIIAS/yolo-obj_last.weights' yolo-obj_last.weights"
   ]
  },
  {
   "cell_type": "code",
   "execution_count": null,
   "metadata": {
    "id": "5mQdOIYISkoe"
   },
   "outputs": [],
   "source": [
    "!mkdir data/train\n",
    "!unzip /mydrive/ForGOSNIIAS/train.zip -d data\n",
    "\n",
    "!mkdir data/test\n",
    "!unzip /mydrive/ForGOSNIIAS/val.zip -d data"
   ]
  },
  {
   "cell_type": "code",
   "execution_count": null,
   "metadata": {
    "id": "CMqsykfGSwdX"
   },
   "outputs": [],
   "source": [
    "# Start the training\n",
    "!./darknet detector train data/obj.data cfg/yolo-obj.cfg darknet53.conv.74 >> /mydrive/ForGOSNIIAS/yolov3-tiny.log -dont_show -map"
   ]
  },
  {
   "cell_type": "code",
   "execution_count": null,
   "metadata": {
    "id": "hgAKoV3JS3ix"
   },
   "outputs": [],
   "source": [
    "# Start the training\n",
    "!./darknet detector train data/obj.data cfg/yolo-obj.cfg yolo-obj_last.weights >> /mydrive/ForGOSNIIAS/yolov3-tiny.log -dont_show -map"
   ]
  }
 ],
 "metadata": {
  "accelerator": "GPU",
  "colab": {
   "collapsed_sections": [],
   "provenance": []
  },
  "gpuClass": "standard",
  "kernelspec": {
   "display_name": "Python 3",
   "language": "python",
   "name": "python3"
  },
  "language_info": {
   "codemirror_mode": {
    "name": "ipython",
    "version": 3
   },
   "file_extension": ".py",
   "mimetype": "text/x-python",
   "name": "python",
   "nbconvert_exporter": "python",
   "pygments_lexer": "ipython3",
   "version": "3.6.9"
  }
 },
 "nbformat": 4,
 "nbformat_minor": 1
}
